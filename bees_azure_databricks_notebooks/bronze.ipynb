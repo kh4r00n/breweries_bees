{
 "cells": [
  {
   "cell_type": "code",
   "execution_count": 0,
   "metadata": {
    "application/vnd.databricks.v1+cell": {
     "cellMetadata": {
      "byteLimit": 2048000,
      "rowLimit": 10000
     },
     "inputWidgets": {},
     "nuid": "48e77b4d-cd4b-4359-9bd9-13beb8ad06fd",
     "showTitle": false,
     "title": ""
    }
   },
   "outputs": [
    {
     "output_type": "stream",
     "name": "stdout",
     "output_type": "stream",
     "text": [
      "Python interpreter will be restarted.\nRequirement already satisfied: azure-storage-blob in /local_disk0/.ephemeral_nfs/envs/pythonEnv-fb4323a4-0f35-445a-9df9-a8f7c562094f/lib/python3.9/site-packages (12.16.0)\nRequirement already satisfied: isodate>=0.6.1 in /local_disk0/.ephemeral_nfs/envs/pythonEnv-fb4323a4-0f35-445a-9df9-a8f7c562094f/lib/python3.9/site-packages (from azure-storage-blob) (0.6.1)\nRequirement already satisfied: cryptography>=2.1.4 in /databricks/python3/lib/python3.9/site-packages (from azure-storage-blob) (3.4.8)\nRequirement already satisfied: azure-core<2.0.0,>=1.26.0 in /local_disk0/.ephemeral_nfs/envs/pythonEnv-fb4323a4-0f35-445a-9df9-a8f7c562094f/lib/python3.9/site-packages (from azure-storage-blob) (1.26.4)\nRequirement already satisfied: typing-extensions>=4.0.1 in /local_disk0/.ephemeral_nfs/envs/pythonEnv-fb4323a4-0f35-445a-9df9-a8f7c562094f/lib/python3.9/site-packages (from azure-storage-blob) (4.5.0)\nRequirement already satisfied: six>=1.11.0 in /databricks/python3/lib/python3.9/site-packages (from azure-core<2.0.0,>=1.26.0->azure-storage-blob) (1.16.0)\nRequirement already satisfied: requests>=2.18.4 in /databricks/python3/lib/python3.9/site-packages (from azure-core<2.0.0,>=1.26.0->azure-storage-blob) (2.26.0)\nRequirement already satisfied: cffi>=1.12 in /databricks/python3/lib/python3.9/site-packages (from cryptography>=2.1.4->azure-storage-blob) (1.14.6)\nRequirement already satisfied: pycparser in /databricks/python3/lib/python3.9/site-packages (from cffi>=1.12->cryptography>=2.1.4->azure-storage-blob) (2.20)\nRequirement already satisfied: idna<4,>=2.5 in /databricks/python3/lib/python3.9/site-packages (from requests>=2.18.4->azure-core<2.0.0,>=1.26.0->azure-storage-blob) (3.2)\nRequirement already satisfied: charset-normalizer~=2.0.0 in /databricks/python3/lib/python3.9/site-packages (from requests>=2.18.4->azure-core<2.0.0,>=1.26.0->azure-storage-blob) (2.0.4)\nRequirement already satisfied: urllib3<1.27,>=1.21.1 in /databricks/python3/lib/python3.9/site-packages (from requests>=2.18.4->azure-core<2.0.0,>=1.26.0->azure-storage-blob) (1.26.7)\nRequirement already satisfied: certifi>=2017.4.17 in /databricks/python3/lib/python3.9/site-packages (from requests>=2.18.4->azure-core<2.0.0,>=1.26.0->azure-storage-blob) (2021.10.8)\nPython interpreter will be restarted.\n"
     ]
    }
   ],
   "source": [
    "pip install azure-storage-blob"
   ]
  },
  {
   "cell_type": "code",
   "execution_count": 0,
   "metadata": {
    "application/vnd.databricks.v1+cell": {
     "cellMetadata": {
      "byteLimit": 2048000,
      "rowLimit": 10000
     },
     "inputWidgets": {},
     "nuid": "0a8a635b-0918-46bc-be92-d7326b04b401",
     "showTitle": false,
     "title": ""
    }
   },
   "outputs": [],
   "source": [
    "import requests\n",
    "import json\n",
    "from azure.storage.blob import BlobServiceClient"
   ]
  },
  {
   "cell_type": "code",
   "execution_count": 0,
   "metadata": {
    "application/vnd.databricks.v1+cell": {
     "cellMetadata": {
      "byteLimit": 2048000,
      "rowLimit": 10000
     },
     "inputWidgets": {},
     "nuid": "e314f4bc-a915-4109-a2a1-4aa9933fded2",
     "showTitle": false,
     "title": ""
    }
   },
   "outputs": [
    {
     "output_type": "stream",
     "name": "stdout",
     "output_type": "stream",
     "text": [
      "The file contains 8195 beers/lines/rows.\n"
     ]
    }
   ],
   "source": [
    "# API URL\n",
    "url = 'https://api.openbrewerydb.org/v1/breweries'\n",
    "\n",
    "# List to store the breweries\n",
    "all_breweries = []\n",
    "page = 1\n",
    "\n",
    "# Loop to collect all breweries using pagination\n",
    "while True:\n",
    "    response = requests.get(f'{url}?page={page}&per_page=50')\n",
    "    data = json.loads(response.text)\n",
    "\n",
    "    # Check if there is more data to be collected\n",
    "    if not data:\n",
    "        break\n",
    "\n",
    "    all_breweries.extend(data)\n",
    "    page += 1\n",
    "\n",
    "print(f'The file contains {len(all_breweries)} beers/lines/rows.')"
   ]
  },
  {
   "cell_type": "code",
   "execution_count": 0,
   "metadata": {
    "application/vnd.databricks.v1+cell": {
     "cellMetadata": {
      "byteLimit": 2048000,
      "rowLimit": 10000
     },
     "inputWidgets": {},
     "nuid": "ac1cc3dc-363b-48c7-8d3f-a5193c41f6c7",
     "showTitle": false,
     "title": ""
    }
   },
   "outputs": [
    {
     "output_type": "stream",
     "name": "stdout",
     "output_type": "stream",
     "text": [
      "The breweries.json file was saved to the container bees in the folder bronze.\n"
     ]
    }
   ],
   "source": [
    "# Obter o valor do segredo 'CS-ADLS' no Key Vault\n",
    "connect_str = dbutils.secrets.get(scope='izanabees-kv', key='CS-ADLS')\n",
    "\n",
    "# Criar um objeto BlobServiceClient a partir da connection string\n",
    "blob_service_client = BlobServiceClient.from_connection_string(connect_str)\n",
    "\n",
    "# Set the name of the container and the folder\n",
    "container_name = 'bees'\n",
    "folder_name = 'bronze'\n",
    "\n",
    "# Create a BlobClient object for the blob\n",
    "blob_name = f'{folder_name}/breweries.json'\n",
    "blob_client = blob_service_client.get_blob_client(container_name, blob_name)\n",
    "\n",
    "# Save the breweries to the blob\n",
    "blob_client.upload_blob(json.dumps(all_breweries), overwrite=True)\n",
    "\n",
    "print(f'The breweries.json file was saved to the container {container_name} in the folder {folder_name}.')"
   ]
  }
 ],
 "metadata": {
  "application/vnd.databricks.v1+notebook": {
   "dashboards": [],
   "language": "python",
   "notebookMetadata": {
    "pythonIndentUnit": 4
   },
   "notebookName": "bronze",
   "notebookOrigID": 899362247711423,
   "widgets": {}
  }
 },
 "nbformat": 4,
 "nbformat_minor": 0
}
