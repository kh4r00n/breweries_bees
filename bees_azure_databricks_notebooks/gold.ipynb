{
 "cells": [
  {
   "cell_type": "code",
   "execution_count": 0,
   "metadata": {
    "application/vnd.databricks.v1+cell": {
     "cellMetadata": {
      "byteLimit": 2048000,
      "rowLimit": 10000
     },
     "inputWidgets": {},
     "nuid": "8cd4bd48-c1d7-4393-93d1-64d7e469a0f4",
     "showTitle": false,
     "title": ""
    }
   },
   "outputs": [],
   "source": [
    "from pyspark.sql.functions import *"
   ]
  },
  {
   "cell_type": "code",
   "execution_count": 0,
   "metadata": {
    "application/vnd.databricks.v1+cell": {
     "cellMetadata": {
      "byteLimit": 2048000,
      "rowLimit": 10000
     },
     "inputWidgets": {},
     "nuid": "54f1a803-c2b6-47b8-9581-7e5c72bfb718",
     "showTitle": false,
     "title": ""
    }
   },
   "outputs": [
    {
     "output_type": "stream",
     "name": "stdout",
     "output_type": "stream",
     "text": [
      "/mnt/bees is already mounted\n"
     ]
    }
   ],
   "source": [
    "# Define variables\n",
    "scope = \"izanabees-kv\"\n",
    "key = \"KEY-ADLS\"\n",
    "storage_account_name = \"izanabees\"\n",
    "container_name = \"bees\"\n",
    "mount_point = '/mnt/bees'\n",
    "\n",
    "# Check if mount point is already mounted\n",
    "if not any(mount.mountPoint == mount_point for mount in dbutils.fs.mounts()):\n",
    "  \n",
    "  # Get the connection string from secrets\n",
    "  connect_str = dbutils.secrets.get(scope=scope, key=key)\n",
    "\n",
    "  # Mount the container\n",
    "  dbutils.fs.mount(\n",
    "    source=f\"wasbs://{container_name}@{storage_account_name}.blob.core.windows.net\",\n",
    "    mount_point=mount_point,\n",
    "    extra_configs={\n",
    "      f\"fs.azure.account.key.{storage_account_name}.blob.core.windows.net\": connect_str\n",
    "    }\n",
    "  )\n",
    "  print(f\"Mounted {mount_point}\")\n",
    "else:\n",
    "  print(f\"{mount_point} is already mounted\")"
   ]
  },
  {
   "cell_type": "code",
   "execution_count": 0,
   "metadata": {
    "application/vnd.databricks.v1+cell": {
     "cellMetadata": {
      "byteLimit": 2048000,
      "rowLimit": 10000
     },
     "inputWidgets": {},
     "nuid": "bc8db6fb-0242-464b-a375-0b42fc7cb912",
     "showTitle": false,
     "title": ""
    }
   },
   "outputs": [],
   "source": [
    "gold_df = spark.read.parquet(\"/mnt/bees/silver/breweries_silver\")"
   ]
  },
  {
   "cell_type": "code",
   "execution_count": 0,
   "metadata": {
    "application/vnd.databricks.v1+cell": {
     "cellMetadata": {
      "byteLimit": 2048000,
      "rowLimit": 10000
     },
     "inputWidgets": {},
     "nuid": "e61df1e4-f598-4de3-b676-19081db79282",
     "showTitle": false,
     "title": ""
    }
   },
   "outputs": [],
   "source": [
    "gold_df = gold_df.groupBy(\"state\", \"brewery_type\").agg(count(\"*\").alias(\"count\")).orderBy(\"count\", ascending=False)"
   ]
  },
  {
   "cell_type": "code",
   "execution_count": 0,
   "metadata": {
    "application/vnd.databricks.v1+cell": {
     "cellMetadata": {
      "byteLimit": 2048000,
      "rowLimit": 10000
     },
     "inputWidgets": {},
     "nuid": "0e134b99-7a1c-4371-8559-2394ecae712a",
     "showTitle": false,
     "title": ""
    }
   },
   "outputs": [
    {
     "output_type": "display_data",
     "data": {
      "text/html": [
       "<style scoped>\n",
       "  .table-result-container {\n",
       "    max-height: 300px;\n",
       "    overflow: auto;\n",
       "  }\n",
       "  table, th, td {\n",
       "    border: 1px solid black;\n",
       "    border-collapse: collapse;\n",
       "  }\n",
       "  th, td {\n",
       "    padding: 5px;\n",
       "  }\n",
       "  th {\n",
       "    text-align: left;\n",
       "  }\n",
       "</style><div class='table-result-container'><table class='table-result'><thead style='background-color: white'><tr><th>state</th><th>brewery_type</th><th>count</th></tr></thead><tbody><tr><td>California</td><td>micro</td><td>461</td></tr><tr><td>Washington</td><td>micro</td><td>278</td></tr><tr><td>California</td><td>brewpub</td><td>249</td></tr><tr><td>New York</td><td>micro</td><td>224</td></tr><tr><td>Colorado</td><td>micro</td><td>221</td></tr><tr><td>Michigan</td><td>brewpub</td><td>199</td></tr><tr><td>Texas</td><td>micro</td><td>196</td></tr><tr><td>Florida</td><td>micro</td><td>190</td></tr><tr><td>North Carolina</td><td>micro</td><td>180</td></tr><tr><td>Ohio</td><td>micro</td><td>163</td></tr><tr><td>Pennsylvania</td><td>brewpub</td><td>156</td></tr><tr><td>Virginia</td><td>micro</td><td>152</td></tr><tr><td>Michigan</td><td>micro</td><td>143</td></tr><tr><td>Oregon</td><td>micro</td><td>142</td></tr><tr><td>Colorado</td><td>brewpub</td><td>138</td></tr><tr><td>Pennsylvania</td><td>micro</td><td>129</td></tr><tr><td>Washington</td><td>brewpub</td><td>115</td></tr><tr><td>Illinois</td><td>micro</td><td>115</td></tr><tr><td>New York</td><td>brewpub</td><td>111</td></tr><tr><td>Minnesota</td><td>micro</td><td>110</td></tr><tr><td>Oregon</td><td>brewpub</td><td>106</td></tr><tr><td>Ohio</td><td>brewpub</td><td>94</td></tr><tr><td>Massachusetts</td><td>micro</td><td>93</td></tr><tr><td>Wisconsin</td><td>micro</td><td>92</td></tr><tr><td>Illinois</td><td>brewpub</td><td>88</td></tr><tr><td>New Jersey</td><td>micro</td><td>79</td></tr><tr><td>Wisconsin</td><td>brewpub</td><td>78</td></tr><tr><td>Texas</td><td>brewpub</td><td>77</td></tr><tr><td>Indiana</td><td>brewpub</td><td>76</td></tr><tr><td>North Carolina</td><td>brewpub</td><td>73</td></tr><tr><td>Maine</td><td>micro</td><td>70</td></tr><tr><td>California</td><td>planning</td><td>67</td></tr><tr><td>Missouri</td><td>micro</td><td>66</td></tr><tr><td>Florida</td><td>brewpub</td><td>65</td></tr><tr><td>Montana</td><td>micro</td><td>61</td></tr><tr><td>Indiana</td><td>micro</td><td>60</td></tr><tr><td>Tennessee</td><td>micro</td><td>59</td></tr><tr><td>Arizona</td><td>micro</td><td>58</td></tr><tr><td>Iowa</td><td>micro</td><td>56</td></tr><tr><td>Texas</td><td>planning</td><td>56</td></tr><tr><td>Virginia</td><td>brewpub</td><td>55</td></tr><tr><td>Maryland</td><td>micro</td><td>52</td></tr><tr><td>Washington</td><td>closed</td><td>51</td></tr><tr><td>California</td><td>closed</td><td>51</td></tr><tr><td>Connecticut</td><td>micro</td><td>49</td></tr><tr><td>Georgia</td><td>micro</td><td>47</td></tr><tr><td>Arizona</td><td>brewpub</td><td>46</td></tr><tr><td>Missouri</td><td>brewpub</td><td>46</td></tr><tr><td>New Mexico</td><td>brewpub</td><td>44</td></tr><tr><td>Minnesota</td><td>brewpub</td><td>44</td></tr><tr><td>Kentucky</td><td>micro</td><td>41</td></tr><tr><td>Colorado</td><td>planning</td><td>40</td></tr><tr><td>South Carolina</td><td>micro</td><td>38</td></tr><tr><td>New York</td><td>planning</td><td>38</td></tr><tr><td>Florida</td><td>planning</td><td>38</td></tr><tr><td>Pennsylvania</td><td>planning</td><td>37</td></tr><tr><td>New Hampshire</td><td>micro</td><td>37</td></tr><tr><td>Idaho</td><td>micro</td><td>36</td></tr><tr><td>Virginia</td><td>planning</td><td>34</td></tr><tr><td>Massachusetts</td><td>brewpub</td><td>34</td></tr><tr><td>Vermont</td><td>micro</td><td>34</td></tr><tr><td>Iowa</td><td>brewpub</td><td>32</td></tr><tr><td>Alabama</td><td>micro</td><td>32</td></tr><tr><td>Maine</td><td>brewpub</td><td>31</td></tr><tr><td>New Mexico</td><td>micro</td><td>30</td></tr><tr><td>Oklahoma</td><td>micro</td><td>30</td></tr><tr><td>Nebraska</td><td>micro</td><td>30</td></tr><tr><td>North Carolina</td><td>planning</td><td>29</td></tr><tr><td>California</td><td>regional</td><td>29</td></tr><tr><td>South Carolina</td><td>brewpub</td><td>29</td></tr><tr><td>Alaska</td><td>micro</td><td>29</td></tr><tr><td>California</td><td>contract</td><td>27</td></tr><tr><td>Maryland</td><td>brewpub</td><td>26</td></tr><tr><td>Tennessee</td><td>brewpub</td><td>26</td></tr><tr><td>Ohio</td><td>planning</td><td>26</td></tr><tr><td>Louisiana</td><td>micro</td><td>26</td></tr><tr><td>Georgia</td><td>brewpub</td><td>25</td></tr><tr><td>South Dakota</td><td>micro</td><td>24</td></tr><tr><td>Illinois</td><td>planning</td><td>23</td></tr><tr><td>Idaho</td><td>brewpub</td><td>23</td></tr><tr><td>New York</td><td>contract</td><td>22</td></tr><tr><td>New Hampshire</td><td>brewpub</td><td>22</td></tr><tr><td>Nevada</td><td>micro</td><td>22</td></tr><tr><td>Arkansas</td><td>micro</td><td>22</td></tr><tr><td>Connecticut</td><td>planning</td><td>21</td></tr><tr><td>Michigan</td><td>planning</td><td>21</td></tr><tr><td>East Sussex</td><td>micro</td><td>21</td></tr><tr><td>Nebraska</td><td>brewpub</td><td>21</td></tr><tr><td>Utah</td><td>micro</td><td>21</td></tr><tr><td>Tennessee</td><td>planning</td><td>20</td></tr><tr><td>Indiana</td><td>planning</td><td>20</td></tr><tr><td>Rhode Island</td><td>micro</td><td>20</td></tr><tr><td>Kansas</td><td>brewpub</td><td>20</td></tr><tr><td>Nevada</td><td>brewpub</td><td>20</td></tr><tr><td>dolnośląskie</td><td>micro</td><td>20</td></tr><tr><td>Georgia</td><td>planning</td><td>19</td></tr><tr><td>West Sussex</td><td>micro</td><td>19</td></tr><tr><td>Maryland</td><td>planning</td><td>18</td></tr><tr><td>Kansas</td><td>micro</td><td>18</td></tr><tr><td>Arkansas</td><td>brewpub</td><td>18</td></tr><tr><td>Wisconsin</td><td>contract</td><td>17</td></tr><tr><td>Massachusetts</td><td>planning</td><td>17</td></tr><tr><td>Montana</td><td>brewpub</td><td>17</td></tr><tr><td>West Virginia</td><td>micro</td><td>17</td></tr><tr><td>New Jersey</td><td>brewpub</td><td>16</td></tr><tr><td>Vermont</td><td>brewpub</td><td>16</td></tr><tr><td>California</td><td>large</td><td>15</td></tr><tr><td>South Dakota</td><td>brewpub</td><td>15</td></tr><tr><td>New Jersey</td><td>planning</td><td>14</td></tr><tr><td>Delaware</td><td>brewpub</td><td>14</td></tr><tr><td>Seoul</td><td>brewpub</td><td>14</td></tr><tr><td>Utah</td><td>brewpub</td><td>14</td></tr><tr><td>Alaska</td><td>brewpub</td><td>14</td></tr><tr><td>Wyoming</td><td>micro</td><td>14</td></tr><tr><td>Missouri</td><td>closed</td><td>13</td></tr><tr><td>Minnesota</td><td>planning</td><td>13</td></tr><tr><td>California</td><td>proprietor</td><td>13</td></tr><tr><td>North Carolina</td><td>regional</td><td>13</td></tr><tr><td>Oregon</td><td>regional</td><td>13</td></tr><tr><td>Pennsylvania</td><td>regional</td><td>13</td></tr><tr><td>Arizona</td><td>planning</td><td>13</td></tr><tr><td>Wisconsin</td><td>planning</td><td>13</td></tr><tr><td>West Virginia</td><td>brewpub</td><td>13</td></tr><tr><td>Oregon</td><td>planning</td><td>12</td></tr><tr><td>North Dakota</td><td>micro</td><td>12</td></tr><tr><td>Wyoming</td><td>brewpub</td><td>12</td></tr><tr><td>Hawaii</td><td>brewpub</td><td>12</td></tr><tr><td>Kentucky</td><td>brewpub</td><td>12</td></tr><tr><td>Mississippi</td><td>micro</td><td>12</td></tr><tr><td>Oregon</td><td>closed</td><td>11</td></tr><tr><td>Illinois</td><td>contract</td><td>11</td></tr><tr><td>Colorado</td><td>regional</td><td>11</td></tr><tr><td>Connecticut</td><td>brewpub</td><td>11</td></tr><tr><td>dolnośląskie</td><td>brewpub</td><td>11</td></tr><tr><td>Montana</td><td>planning</td><td>10</td></tr><tr><td>New York</td><td>proprietor</td><td>10</td></tr><tr><td>Texas</td><td>regional</td><td>10</td></tr><tr><td>Delaware</td><td>micro</td><td>10</td></tr><tr><td>Dublin</td><td>micro</td><td>10</td></tr><tr><td>New York</td><td>regional</td><td>9</td></tr><tr><td>Wisconsin</td><td>regional</td><td>9</td></tr><tr><td>Colorado</td><td>contract</td><td>9</td></tr><tr><td>Massachusetts</td><td>regional</td><td>9</td></tr><tr><td>Washington</td><td>planning</td><td>9</td></tr><tr><td>Michigan</td><td>regional</td><td>9</td></tr><tr><td>Ohio</td><td>regional</td><td>9</td></tr><tr><td>Rhode Island</td><td>brewpub</td><td>9</td></tr><tr><td>New Hampshire</td><td>planning</td><td>9</td></tr><tr><td>Massachusetts</td><td>contract</td><td>8</td></tr><tr><td>Minnesota</td><td>regional</td><td>8</td></tr><tr><td>Missouri</td><td>regional</td><td>8</td></tr><tr><td>South Carolina</td><td>planning</td><td>8</td></tr><tr><td>Alabama</td><td>planning</td><td>8</td></tr><tr><td>Gyeonggido</td><td>brewpub</td><td>8</td></tr><tr><td>North Dakota</td><td>brewpub</td><td>8</td></tr><tr><td>Louisiana</td><td>planning</td><td>8</td></tr><tr><td>Busan</td><td>brewpub</td><td>8</td></tr><tr><td>Ohio</td><td>contract</td><td>7</td></tr><tr><td>Maine</td><td>planning</td><td>7</td></tr><tr><td>Washington</td><td>regional</td><td>7</td></tr><tr><td>Colorado</td><td>large</td><td>7</td></tr><tr><td>Kansas</td><td>planning</td><td>7</td></tr><tr><td>Hawaii</td><td>micro</td><td>7</td></tr><tr><td>West Sussex</td><td>taproom</td><td>7</td></tr><tr><td>Vermont</td><td>regional</td><td>7</td></tr><tr><td>Gangwondo</td><td>brewpub</td><td>7</td></tr><tr><td>Oregon</td><td>large</td><td>6</td></tr><tr><td>Pennsylvania</td><td>contract</td><td>6</td></tr><tr><td>Florida</td><td>contract</td><td>6</td></tr><tr><td>Connecticut</td><td>closed</td><td>6</td></tr><tr><td>Maryland</td><td>contract</td><td>6</td></tr><tr><td>Texas</td><td>contract</td><td>6</td></tr><tr><td>District of Columbia</td><td>brewpub</td><td>6</td></tr><tr><td>Louisiana</td><td>brewpub</td><td>6</td></tr><tr><td>Virginia</td><td>contract</td><td>5</td></tr><tr><td>Illinois</td><td>proprietor</td><td>5</td></tr><tr><td>Florida</td><td>regional</td><td>5</td></tr><tr><td>Minnesota</td><td>contract</td><td>5</td></tr><tr><td>Connecticut</td><td>contract</td><td>5</td></tr><tr><td>New Mexico</td><td>planning</td><td>5</td></tr><tr><td>North Carolina</td><td>contract</td><td>5</td></tr><tr><td>Virginia</td><td>large</td><td>5</td></tr><tr><td>Wisconsin</td><td>large</td><td>5</td></tr><tr><td>Idaho</td><td>closed</td><td>5</td></tr><tr><td>Oklahoma</td><td>brewpub</td><td>5</td></tr><tr><td>District of Columbia</td><td>micro</td><td>5</td></tr><tr><td>East Sussex</td><td>brewpub</td><td>5</td></tr><tr><td>Nevada</td><td>planning</td><td>5</td></tr><tr><td>West Sussex</td><td>brewpub</td><td>5</td></tr><tr><td>Cork</td><td>micro</td><td>5</td></tr><tr><td>Florida</td><td>large</td><td>4</td></tr><tr><td>Arizona</td><td>contract</td><td>4</td></tr><tr><td>Washington</td><td>contract</td><td>4</td></tr><tr><td>New York</td><td>large</td><td>4</td></tr><tr><td>Colorado</td><td>proprietor</td><td>4</td></tr><tr><td>Florida</td><td>proprietor</td><td>4</td></tr><tr><td>Illinois</td><td>large</td><td>4</td></tr><tr><td>Maryland</td><td>regional</td><td>4</td></tr><tr><td>North Carolina</td><td>large</td><td>4</td></tr><tr><td>Texas</td><td>large</td><td>4</td></tr><tr><td>New Jersey</td><td>contract</td><td>4</td></tr><tr><td>Utah</td><td>closed</td><td>4</td></tr><tr><td>Alaska</td><td>closed</td><td>4</td></tr><tr><td>Alabama</td><td>brewpub</td><td>4</td></tr><tr><td>Oklahoma</td><td>contract</td><td>4</td></tr><tr><td>Nebraska</td><td>planning</td><td>4</td></tr><tr><td>East Sussex</td><td>taproom</td><td>4</td></tr><tr><td>Oklahoma</td><td>planning</td><td>4</td></tr><tr><td>Wyoming</td><td>planning</td><td>4</td></tr><tr><td>Arkansas</td><td>planning</td><td>4</td></tr><tr><td>Argyll</td><td>micro</td><td>4</td></tr><tr><td>Styria</td><td>large</td><td>4</td></tr><tr><td>West Dunbartonshire</td><td>micro</td><td>4</td></tr><tr><td>Georgia</td><td>regional</td><td>3</td></tr><tr><td>Michigan</td><td>contract</td><td>3</td></tr><tr><td>Georgia</td><td>large</td><td>3</td></tr><tr><td>Missouri</td><td>proprietor</td><td>3</td></tr><tr><td>Washington</td><td>large</td><td>3</td></tr><tr><td>Missouri</td><td>planning</td><td>3</td></tr><tr><td>Maine</td><td>regional</td><td>3</td></tr><tr><td>Virginia</td><td>regional</td><td>3</td></tr><tr><td>North Carolina</td><td>proprietor</td><td>3</td></tr><tr><td>Indiana</td><td>regional</td><td>3</td></tr><tr><td>Oregon</td><td>contract</td><td>3</td></tr><tr><td>Illinois</td><td>regional</td><td>3</td></tr><tr><td>Cork</td><td>brewpub</td><td>3</td></tr><tr><td>North Dakota</td><td>closed</td><td>3</td></tr><tr><td>Hawaii</td><td>closed</td><td>3</td></tr><tr><td>dolnośląskie</td><td>regional</td><td>3</td></tr><tr><td>Kentucky</td><td>planning</td><td>3</td></tr><tr><td>Nevada</td><td>contract</td><td>3</td></tr><tr><td>Utah</td><td>planning</td><td>3</td></tr><tr><td>Dublin</td><td>brewpub</td><td>3</td></tr><tr><td>Gyeongsangnamdo</td><td>brewpub</td><td>3</td></tr><tr><td>Jejudo</td><td>brewpub</td><td>3</td></tr><tr><td>Jeollabukdo</td><td>brewpub</td><td>3</td></tr><tr><td>Lisboa</td><td>micro</td><td>3</td></tr><tr><td>Donegal</td><td>micro</td><td>3</td></tr><tr><td>Kildare</td><td>micro</td><td>3</td></tr><tr><td>Bouche du Rhône</td><td>micro</td><td>3</td></tr><tr><td>Montana</td><td>contract</td><td>2</td></tr><tr><td>Massachusetts</td><td>proprietor</td><td>2</td></tr><tr><td>Ohio</td><td>large</td><td>2</td></tr><tr><td>New Mexico</td><td>regional</td><td>2</td></tr><tr><td>Maryland</td><td>proprietor</td><td>2</td></tr><tr><td>Iowa</td><td>closed</td><td>2</td></tr><tr><td>Texas</td><td>closed</td><td>2</td></tr><tr><td>Washington</td><td>nano</td><td>2</td></tr><tr><td>Pennsylvania</td><td>proprietor</td><td>2</td></tr><tr><td>Connecticut</td><td>regional</td><td>2</td></tr><tr><td>Maine</td><td>contract</td><td>2</td></tr><tr><td>Georgia</td><td>contract</td><td>2</td></tr><tr><td>Indiana</td><td>contract</td><td>2</td></tr><tr><td>Tennessee</td><td>proprietor</td><td>2</td></tr><tr><td>South Carolina</td><td>regional</td><td>2</td></tr><tr><td>Montana</td><td>regional</td><td>2</td></tr><tr><td>Oregon</td><td>proprietor</td><td>2</td></tr><tr><td>Minnesota</td><td>proprietor</td><td>2</td></tr><tr><td>Washington</td><td>proprietor</td><td>2</td></tr><tr><td>Wisconsin</td><td>proprietor</td><td>2</td></tr><tr><td>Arizona</td><td>large</td><td>2</td></tr><tr><td>Tennessee</td><td>regional</td><td>2</td></tr><tr><td>South Dakota</td><td>closed</td><td>2</td></tr><tr><td>West Virginia</td><td>planning</td><td>2</td></tr><tr><td>Cork</td><td>large</td><td>2</td></tr><tr><td>South Dakota</td><td>planning</td><td>2</td></tr><tr><td>District of Columbia</td><td>planning</td><td>2</td></tr><tr><td>Dublin</td><td>regional</td><td>2</td></tr><tr><td>North Dakota</td><td>nano</td><td>2</td></tr><tr><td>Mississippi</td><td>brewpub</td><td>2</td></tr><tr><td>Alaska</td><td>planning</td><td>2</td></tr><tr><td>New Hampshire</td><td>regional</td><td>2</td></tr><tr><td>Louisiana</td><td>contract</td><td>2</td></tr><tr><td>District of Columbia</td><td>contract</td><td>2</td></tr><tr><td>Nebraska</td><td>closed</td><td>2</td></tr><tr><td>Vermont</td><td>planning</td><td>2</td></tr><tr><td>Delaware</td><td>planning</td><td>2</td></tr><tr><td>Utah</td><td>regional</td><td>2</td></tr><tr><td>Offaly</td><td>micro</td><td>2</td></tr><tr><td>Lisboa</td><td>brewpub</td><td>2</td></tr><tr><td>Wicklow</td><td>micro</td><td>2</td></tr><tr><td>Galway</td><td>regional</td><td>2</td></tr><tr><td>Kilkenny</td><td>regional</td><td>2</td></tr><tr><td>Gyeongsangbukdo</td><td>brewpub</td><td>2</td></tr><tr><td>Incheon</td><td>brewpub</td><td>2</td></tr><tr><td>Chungcheongnamdo</td><td>micro</td><td>2</td></tr><tr><td>Wexford</td><td>micro</td><td>2</td></tr><tr><td>Waterford</td><td>micro</td><td>2</td></tr><tr><td>Tipperary</td><td>micro</td><td>2</td></tr><tr><td>Laois</td><td>micro</td><td>2</td></tr><tr><td>Sligo</td><td>micro</td><td>2</td></tr><tr><td>Kerry</td><td>micro</td><td>2</td></tr><tr><td>Limerick</td><td>micro</td><td>2</td></tr><tr><td>Middle</td><td>micro</td><td>2</td></tr><tr><td>Mayo</td><td>micro</td><td>2</td></tr><tr><td>South Carolina</td><td>contract</td><td>1</td></tr><tr><td>New Jersey</td><td>large</td><td>1</td></tr><tr><td>South Carolina</td><td>closed</td><td>1</td></tr><tr><td>Texas</td><td>proprietor</td><td>1</td></tr><tr><td>Iowa</td><td>contract</td><td>1</td></tr><tr><td>Missouri</td><td>contract</td><td>1</td></tr><tr><td>Ohio</td><td>closed</td><td>1</td></tr><tr><td>Missouri</td><td>large</td><td>1</td></tr><tr><td>Ohio</td><td>proprietor</td><td>1</td></tr><tr><td>Maine</td><td>proprietor</td><td>1</td></tr><tr><td>Arizona</td><td>regional</td><td>1</td></tr><tr><td>Maryland</td><td>large</td><td>1</td></tr><tr><td>Wisconsin</td><td>nano</td><td>1</td></tr><tr><td>Tennessee</td><td>contract</td><td>1</td></tr><tr><td>New Jersey</td><td>regional</td><td>1</td></tr><tr><td>Indiana</td><td>proprietor</td><td>1</td></tr><tr><td>Georgia</td><td>proprietor</td><td>1</td></tr><tr><td>New Mexico</td><td>proprietor</td><td>1</td></tr><tr><td>New Mexico</td><td>contract</td><td>1</td></tr><tr><td>Cork</td><td>regional</td><td>1</td></tr><tr><td>Alaska</td><td>regional</td><td>1</td></tr><tr><td>North Dakota</td><td>bar</td><td>1</td></tr><tr><td>New Hampshire</td><td>contract</td><td>1</td></tr><tr><td>South Dakota</td><td>contract</td><td>1</td></tr><tr><td>Kansas</td><td>regional</td><td>1</td></tr><tr><td>Alaska</td><td>contract</td><td>1</td></tr><tr><td>Nevada</td><td>bar</td><td>1</td></tr><tr><td>Wyoming</td><td>regional</td><td>1</td></tr><tr><td>Rhode Island</td><td>regional</td><td>1</td></tr><tr><td>Oklahoma</td><td>closed</td><td>1</td></tr><tr><td>Dublin</td><td>large</td><td>1</td></tr><tr><td>Gyeonggido</td><td>micro</td><td>1</td></tr><tr><td>Louisiana</td><td>regional</td><td>1</td></tr><tr><td>East Sussex</td><td>large</td><td>1</td></tr><tr><td>Wyoming</td><td>contract</td><td>1</td></tr><tr><td>Mississippi</td><td>planning</td><td>1</td></tr><tr><td>Kentucky</td><td>contract</td><td>1</td></tr><tr><td>Idaho</td><td>contract</td><td>1</td></tr><tr><td>Idaho</td><td>proprietor</td><td>1</td></tr><tr><td>Idaho</td><td>large</td><td>1</td></tr><tr><td>District of Columbia</td><td>regional</td><td>1</td></tr><tr><td>Delaware</td><td>regional</td><td>1</td></tr><tr><td>Delaware</td><td>large</td><td>1</td></tr><tr><td>South Dakota</td><td>proprietor</td><td>1</td></tr><tr><td>Hawaii</td><td>regional</td><td>1</td></tr><tr><td>Arkansas</td><td>contract</td><td>1</td></tr><tr><td>New Hampshire</td><td>large</td><td>1</td></tr><tr><td>Alabama</td><td>contract</td><td>1</td></tr><tr><td>West Virginia</td><td>proprietor</td><td>1</td></tr><tr><td>Rhode Island</td><td>proprietor</td><td>1</td></tr><tr><td>Kentucky</td><td>regional</td><td>1</td></tr><tr><td>Kansas</td><td>proprietor</td><td>1</td></tr><tr><td>Mississippi</td><td>contract</td><td>1</td></tr><tr><td>Jeollanamdo</td><td>brewpub</td><td>1</td></tr><tr><td>Gwangju</td><td>brewpub</td><td>1</td></tr><tr><td>Galway</td><td>micro</td><td>1</td></tr><tr><td>Wicklow</td><td>regional</td><td>1</td></tr><tr><td>Louth</td><td>micro</td><td>1</td></tr><tr><td>Deagu</td><td>brewpub</td><td>1</td></tr><tr><td>Chungcheongbukdo</td><td>brewpub</td><td>1</td></tr><tr><td>Aveiro</td><td>micro</td><td>1</td></tr><tr><td>Gyeongsangbukdo</td><td>micro</td><td>1</td></tr><tr><td>Portalegre</td><td>micro</td><td>1</td></tr><tr><td>Coimbra</td><td>brewpub</td><td>1</td></tr><tr><td>Chungcheongnamdo</td><td>brewpub</td><td>1</td></tr><tr><td>Donegal</td><td>regional</td><td>1</td></tr><tr><td>Kilkenny</td><td>micro</td><td>1</td></tr><tr><td>Longford</td><td>micro</td><td>1</td></tr><tr><td>Daejeon</td><td>brewpub</td><td>1</td></tr><tr><td> Busan</td><td>micro</td><td>1</td></tr><tr><td>Carlow</td><td>micro</td><td>1</td></tr><tr><td>Aveiro</td><td>brewpub</td><td>1</td></tr><tr><td>Porto</td><td>brewpub</td><td>1</td></tr><tr><td>Faro</td><td>micro</td><td>1</td></tr><tr><td>Bute</td><td>closed</td><td>1</td></tr><tr><td>Westmeath</td><td>brewpub</td><td>1</td></tr><tr><td>Monaghan</td><td>micro</td><td>1</td></tr><tr><td>Kerry</td><td>brewpub</td><td>1</td></tr><tr><td>Clare</td><td>brewpub</td><td>1</td></tr><tr><td>Meath</td><td>micro</td><td>1</td></tr><tr><td>Leiria</td><td>brewpub</td><td>1</td></tr><tr><td>Lower Austria</td><td>large</td><td>1</td></tr><tr><td>Washington </td><td>planning</td><td>1</td></tr><tr><td>Beja</td><td>brewpub</td><td>1</td></tr><tr><td>Porto</td><td>micro</td><td>1</td></tr><tr><td>East Dunbartonshire</td><td>micro</td><td>1</td></tr><tr><td>MIssouri</td><td>micro</td><td>1</td></tr><tr><td>Carinthia</td><td>large</td><td>1</td></tr><tr><td> Utah</td><td>brewpub</td><td>1</td></tr><tr><td>Roscommon</td><td>micro</td><td>1</td></tr></tbody></table></div>"
      ]
     },
     "metadata": {
      "application/vnd.databricks.v1+output": {
       "addedWidgets": {},
       "aggData": [],
       "aggError": "",
       "aggOverflow": false,
       "aggSchema": [],
       "aggSeriesLimitReached": false,
       "aggType": "",
       "arguments": {},
       "columnCustomDisplayInfos": {},
       "data": [
        [
         "California",
         "micro",
         461
        ],
        [
         "Washington",
         "micro",
         278
        ],
        [
         "California",
         "brewpub",
         249
        ],
        [
         "New York",
         "micro",
         224
        ],
        [
         "Colorado",
         "micro",
         221
        ],
        [
         "Michigan",
         "brewpub",
         199
        ],
        [
         "Texas",
         "micro",
         196
        ],
        [
         "Florida",
         "micro",
         190
        ],
        [
         "North Carolina",
         "micro",
         180
        ],
        [
         "Ohio",
         "micro",
         163
        ],
        [
         "Pennsylvania",
         "brewpub",
         156
        ],
        [
         "Virginia",
         "micro",
         152
        ],
        [
         "Michigan",
         "micro",
         143
        ],
        [
         "Oregon",
         "micro",
         142
        ],
        [
         "Colorado",
         "brewpub",
         138
        ],
        [
         "Pennsylvania",
         "micro",
         129
        ],
        [
         "Washington",
         "brewpub",
         115
        ],
        [
         "Illinois",
         "micro",
         115
        ],
        [
         "New York",
         "brewpub",
         111
        ],
        [
         "Minnesota",
         "micro",
         110
        ],
        [
         "Oregon",
         "brewpub",
         106
        ],
        [
         "Ohio",
         "brewpub",
         94
        ],
        [
         "Massachusetts",
         "micro",
         93
        ],
        [
         "Wisconsin",
         "micro",
         92
        ],
        [
         "Illinois",
         "brewpub",
         88
        ],
        [
         "New Jersey",
         "micro",
         79
        ],
        [
         "Wisconsin",
         "brewpub",
         78
        ],
        [
         "Texas",
         "brewpub",
         77
        ],
        [
         "Indiana",
         "brewpub",
         76
        ],
        [
         "North Carolina",
         "brewpub",
         73
        ],
        [
         "Maine",
         "micro",
         70
        ],
        [
         "California",
         "planning",
         67
        ],
        [
         "Missouri",
         "micro",
         66
        ],
        [
         "Florida",
         "brewpub",
         65
        ],
        [
         "Montana",
         "micro",
         61
        ],
        [
         "Indiana",
         "micro",
         60
        ],
        [
         "Tennessee",
         "micro",
         59
        ],
        [
         "Arizona",
         "micro",
         58
        ],
        [
         "Iowa",
         "micro",
         56
        ],
        [
         "Texas",
         "planning",
         56
        ],
        [
         "Virginia",
         "brewpub",
         55
        ],
        [
         "Maryland",
         "micro",
         52
        ],
        [
         "Washington",
         "closed",
         51
        ],
        [
         "California",
         "closed",
         51
        ],
        [
         "Connecticut",
         "micro",
         49
        ],
        [
         "Georgia",
         "micro",
         47
        ],
        [
         "Arizona",
         "brewpub",
         46
        ],
        [
         "Missouri",
         "brewpub",
         46
        ],
        [
         "New Mexico",
         "brewpub",
         44
        ],
        [
         "Minnesota",
         "brewpub",
         44
        ],
        [
         "Kentucky",
         "micro",
         41
        ],
        [
         "Colorado",
         "planning",
         40
        ],
        [
         "South Carolina",
         "micro",
         38
        ],
        [
         "New York",
         "planning",
         38
        ],
        [
         "Florida",
         "planning",
         38
        ],
        [
         "Pennsylvania",
         "planning",
         37
        ],
        [
         "New Hampshire",
         "micro",
         37
        ],
        [
         "Idaho",
         "micro",
         36
        ],
        [
         "Virginia",
         "planning",
         34
        ],
        [
         "Massachusetts",
         "brewpub",
         34
        ],
        [
         "Vermont",
         "micro",
         34
        ],
        [
         "Iowa",
         "brewpub",
         32
        ],
        [
         "Alabama",
         "micro",
         32
        ],
        [
         "Maine",
         "brewpub",
         31
        ],
        [
         "New Mexico",
         "micro",
         30
        ],
        [
         "Oklahoma",
         "micro",
         30
        ],
        [
         "Nebraska",
         "micro",
         30
        ],
        [
         "North Carolina",
         "planning",
         29
        ],
        [
         "California",
         "regional",
         29
        ],
        [
         "South Carolina",
         "brewpub",
         29
        ],
        [
         "Alaska",
         "micro",
         29
        ],
        [
         "California",
         "contract",
         27
        ],
        [
         "Maryland",
         "brewpub",
         26
        ],
        [
         "Tennessee",
         "brewpub",
         26
        ],
        [
         "Ohio",
         "planning",
         26
        ],
        [
         "Louisiana",
         "micro",
         26
        ],
        [
         "Georgia",
         "brewpub",
         25
        ],
        [
         "South Dakota",
         "micro",
         24
        ],
        [
         "Illinois",
         "planning",
         23
        ],
        [
         "Idaho",
         "brewpub",
         23
        ],
        [
         "New York",
         "contract",
         22
        ],
        [
         "New Hampshire",
         "brewpub",
         22
        ],
        [
         "Nevada",
         "micro",
         22
        ],
        [
         "Arkansas",
         "micro",
         22
        ],
        [
         "Connecticut",
         "planning",
         21
        ],
        [
         "Michigan",
         "planning",
         21
        ],
        [
         "East Sussex",
         "micro",
         21
        ],
        [
         "Nebraska",
         "brewpub",
         21
        ],
        [
         "Utah",
         "micro",
         21
        ],
        [
         "Tennessee",
         "planning",
         20
        ],
        [
         "Indiana",
         "planning",
         20
        ],
        [
         "Rhode Island",
         "micro",
         20
        ],
        [
         "Kansas",
         "brewpub",
         20
        ],
        [
         "Nevada",
         "brewpub",
         20
        ],
        [
         "dolnośląskie",
         "micro",
         20
        ],
        [
         "Georgia",
         "planning",
         19
        ],
        [
         "West Sussex",
         "micro",
         19
        ],
        [
         "Maryland",
         "planning",
         18
        ],
        [
         "Kansas",
         "micro",
         18
        ],
        [
         "Arkansas",
         "brewpub",
         18
        ],
        [
         "Wisconsin",
         "contract",
         17
        ],
        [
         "Massachusetts",
         "planning",
         17
        ],
        [
         "Montana",
         "brewpub",
         17
        ],
        [
         "West Virginia",
         "micro",
         17
        ],
        [
         "New Jersey",
         "brewpub",
         16
        ],
        [
         "Vermont",
         "brewpub",
         16
        ],
        [
         "California",
         "large",
         15
        ],
        [
         "South Dakota",
         "brewpub",
         15
        ],
        [
         "New Jersey",
         "planning",
         14
        ],
        [
         "Delaware",
         "brewpub",
         14
        ],
        [
         "Seoul",
         "brewpub",
         14
        ],
        [
         "Utah",
         "brewpub",
         14
        ],
        [
         "Alaska",
         "brewpub",
         14
        ],
        [
         "Wyoming",
         "micro",
         14
        ],
        [
         "Missouri",
         "closed",
         13
        ],
        [
         "Minnesota",
         "planning",
         13
        ],
        [
         "California",
         "proprietor",
         13
        ],
        [
         "North Carolina",
         "regional",
         13
        ],
        [
         "Oregon",
         "regional",
         13
        ],
        [
         "Pennsylvania",
         "regional",
         13
        ],
        [
         "Arizona",
         "planning",
         13
        ],
        [
         "Wisconsin",
         "planning",
         13
        ],
        [
         "West Virginia",
         "brewpub",
         13
        ],
        [
         "Oregon",
         "planning",
         12
        ],
        [
         "North Dakota",
         "micro",
         12
        ],
        [
         "Wyoming",
         "brewpub",
         12
        ],
        [
         "Hawaii",
         "brewpub",
         12
        ],
        [
         "Kentucky",
         "brewpub",
         12
        ],
        [
         "Mississippi",
         "micro",
         12
        ],
        [
         "Oregon",
         "closed",
         11
        ],
        [
         "Illinois",
         "contract",
         11
        ],
        [
         "Colorado",
         "regional",
         11
        ],
        [
         "Connecticut",
         "brewpub",
         11
        ],
        [
         "dolnośląskie",
         "brewpub",
         11
        ],
        [
         "Montana",
         "planning",
         10
        ],
        [
         "New York",
         "proprietor",
         10
        ],
        [
         "Texas",
         "regional",
         10
        ],
        [
         "Delaware",
         "micro",
         10
        ],
        [
         "Dublin",
         "micro",
         10
        ],
        [
         "New York",
         "regional",
         9
        ],
        [
         "Wisconsin",
         "regional",
         9
        ],
        [
         "Colorado",
         "contract",
         9
        ],
        [
         "Massachusetts",
         "regional",
         9
        ],
        [
         "Washington",
         "planning",
         9
        ],
        [
         "Michigan",
         "regional",
         9
        ],
        [
         "Ohio",
         "regional",
         9
        ],
        [
         "Rhode Island",
         "brewpub",
         9
        ],
        [
         "New Hampshire",
         "planning",
         9
        ],
        [
         "Massachusetts",
         "contract",
         8
        ],
        [
         "Minnesota",
         "regional",
         8
        ],
        [
         "Missouri",
         "regional",
         8
        ],
        [
         "South Carolina",
         "planning",
         8
        ],
        [
         "Alabama",
         "planning",
         8
        ],
        [
         "Gyeonggido",
         "brewpub",
         8
        ],
        [
         "North Dakota",
         "brewpub",
         8
        ],
        [
         "Louisiana",
         "planning",
         8
        ],
        [
         "Busan",
         "brewpub",
         8
        ],
        [
         "Ohio",
         "contract",
         7
        ],
        [
         "Maine",
         "planning",
         7
        ],
        [
         "Washington",
         "regional",
         7
        ],
        [
         "Colorado",
         "large",
         7
        ],
        [
         "Kansas",
         "planning",
         7
        ],
        [
         "Hawaii",
         "micro",
         7
        ],
        [
         "West Sussex",
         "taproom",
         7
        ],
        [
         "Vermont",
         "regional",
         7
        ],
        [
         "Gangwondo",
         "brewpub",
         7
        ],
        [
         "Oregon",
         "large",
         6
        ],
        [
         "Pennsylvania",
         "contract",
         6
        ],
        [
         "Florida",
         "contract",
         6
        ],
        [
         "Connecticut",
         "closed",
         6
        ],
        [
         "Maryland",
         "contract",
         6
        ],
        [
         "Texas",
         "contract",
         6
        ],
        [
         "District of Columbia",
         "brewpub",
         6
        ],
        [
         "Louisiana",
         "brewpub",
         6
        ],
        [
         "Virginia",
         "contract",
         5
        ],
        [
         "Illinois",
         "proprietor",
         5
        ],
        [
         "Florida",
         "regional",
         5
        ],
        [
         "Minnesota",
         "contract",
         5
        ],
        [
         "Connecticut",
         "contract",
         5
        ],
        [
         "New Mexico",
         "planning",
         5
        ],
        [
         "North Carolina",
         "contract",
         5
        ],
        [
         "Virginia",
         "large",
         5
        ],
        [
         "Wisconsin",
         "large",
         5
        ],
        [
         "Idaho",
         "closed",
         5
        ],
        [
         "Oklahoma",
         "brewpub",
         5
        ],
        [
         "District of Columbia",
         "micro",
         5
        ],
        [
         "East Sussex",
         "brewpub",
         5
        ],
        [
         "Nevada",
         "planning",
         5
        ],
        [
         "West Sussex",
         "brewpub",
         5
        ],
        [
         "Cork",
         "micro",
         5
        ],
        [
         "Florida",
         "large",
         4
        ],
        [
         "Arizona",
         "contract",
         4
        ],
        [
         "Washington",
         "contract",
         4
        ],
        [
         "New York",
         "large",
         4
        ],
        [
         "Colorado",
         "proprietor",
         4
        ],
        [
         "Florida",
         "proprietor",
         4
        ],
        [
         "Illinois",
         "large",
         4
        ],
        [
         "Maryland",
         "regional",
         4
        ],
        [
         "North Carolina",
         "large",
         4
        ],
        [
         "Texas",
         "large",
         4
        ],
        [
         "New Jersey",
         "contract",
         4
        ],
        [
         "Utah",
         "closed",
         4
        ],
        [
         "Alaska",
         "closed",
         4
        ],
        [
         "Alabama",
         "brewpub",
         4
        ],
        [
         "Oklahoma",
         "contract",
         4
        ],
        [
         "Nebraska",
         "planning",
         4
        ],
        [
         "East Sussex",
         "taproom",
         4
        ],
        [
         "Oklahoma",
         "planning",
         4
        ],
        [
         "Wyoming",
         "planning",
         4
        ],
        [
         "Arkansas",
         "planning",
         4
        ],
        [
         "Argyll",
         "micro",
         4
        ],
        [
         "Styria",
         "large",
         4
        ],
        [
         "West Dunbartonshire",
         "micro",
         4
        ],
        [
         "Georgia",
         "regional",
         3
        ],
        [
         "Michigan",
         "contract",
         3
        ],
        [
         "Georgia",
         "large",
         3
        ],
        [
         "Missouri",
         "proprietor",
         3
        ],
        [
         "Washington",
         "large",
         3
        ],
        [
         "Missouri",
         "planning",
         3
        ],
        [
         "Maine",
         "regional",
         3
        ],
        [
         "Virginia",
         "regional",
         3
        ],
        [
         "North Carolina",
         "proprietor",
         3
        ],
        [
         "Indiana",
         "regional",
         3
        ],
        [
         "Oregon",
         "contract",
         3
        ],
        [
         "Illinois",
         "regional",
         3
        ],
        [
         "Cork",
         "brewpub",
         3
        ],
        [
         "North Dakota",
         "closed",
         3
        ],
        [
         "Hawaii",
         "closed",
         3
        ],
        [
         "dolnośląskie",
         "regional",
         3
        ],
        [
         "Kentucky",
         "planning",
         3
        ],
        [
         "Nevada",
         "contract",
         3
        ],
        [
         "Utah",
         "planning",
         3
        ],
        [
         "Dublin",
         "brewpub",
         3
        ],
        [
         "Gyeongsangnamdo",
         "brewpub",
         3
        ],
        [
         "Jejudo",
         "brewpub",
         3
        ],
        [
         "Jeollabukdo",
         "brewpub",
         3
        ],
        [
         "Lisboa",
         "micro",
         3
        ],
        [
         "Donegal",
         "micro",
         3
        ],
        [
         "Kildare",
         "micro",
         3
        ],
        [
         "Bouche du Rhône",
         "micro",
         3
        ],
        [
         "Montana",
         "contract",
         2
        ],
        [
         "Massachusetts",
         "proprietor",
         2
        ],
        [
         "Ohio",
         "large",
         2
        ],
        [
         "New Mexico",
         "regional",
         2
        ],
        [
         "Maryland",
         "proprietor",
         2
        ],
        [
         "Iowa",
         "closed",
         2
        ],
        [
         "Texas",
         "closed",
         2
        ],
        [
         "Washington",
         "nano",
         2
        ],
        [
         "Pennsylvania",
         "proprietor",
         2
        ],
        [
         "Connecticut",
         "regional",
         2
        ],
        [
         "Maine",
         "contract",
         2
        ],
        [
         "Georgia",
         "contract",
         2
        ],
        [
         "Indiana",
         "contract",
         2
        ],
        [
         "Tennessee",
         "proprietor",
         2
        ],
        [
         "South Carolina",
         "regional",
         2
        ],
        [
         "Montana",
         "regional",
         2
        ],
        [
         "Oregon",
         "proprietor",
         2
        ],
        [
         "Minnesota",
         "proprietor",
         2
        ],
        [
         "Washington",
         "proprietor",
         2
        ],
        [
         "Wisconsin",
         "proprietor",
         2
        ],
        [
         "Arizona",
         "large",
         2
        ],
        [
         "Tennessee",
         "regional",
         2
        ],
        [
         "South Dakota",
         "closed",
         2
        ],
        [
         "West Virginia",
         "planning",
         2
        ],
        [
         "Cork",
         "large",
         2
        ],
        [
         "South Dakota",
         "planning",
         2
        ],
        [
         "District of Columbia",
         "planning",
         2
        ],
        [
         "Dublin",
         "regional",
         2
        ],
        [
         "North Dakota",
         "nano",
         2
        ],
        [
         "Mississippi",
         "brewpub",
         2
        ],
        [
         "Alaska",
         "planning",
         2
        ],
        [
         "New Hampshire",
         "regional",
         2
        ],
        [
         "Louisiana",
         "contract",
         2
        ],
        [
         "District of Columbia",
         "contract",
         2
        ],
        [
         "Nebraska",
         "closed",
         2
        ],
        [
         "Vermont",
         "planning",
         2
        ],
        [
         "Delaware",
         "planning",
         2
        ],
        [
         "Utah",
         "regional",
         2
        ],
        [
         "Offaly",
         "micro",
         2
        ],
        [
         "Lisboa",
         "brewpub",
         2
        ],
        [
         "Wicklow",
         "micro",
         2
        ],
        [
         "Galway",
         "regional",
         2
        ],
        [
         "Kilkenny",
         "regional",
         2
        ],
        [
         "Gyeongsangbukdo",
         "brewpub",
         2
        ],
        [
         "Incheon",
         "brewpub",
         2
        ],
        [
         "Chungcheongnamdo",
         "micro",
         2
        ],
        [
         "Wexford",
         "micro",
         2
        ],
        [
         "Waterford",
         "micro",
         2
        ],
        [
         "Tipperary",
         "micro",
         2
        ],
        [
         "Laois",
         "micro",
         2
        ],
        [
         "Sligo",
         "micro",
         2
        ],
        [
         "Kerry",
         "micro",
         2
        ],
        [
         "Limerick",
         "micro",
         2
        ],
        [
         "Middle",
         "micro",
         2
        ],
        [
         "Mayo",
         "micro",
         2
        ],
        [
         "South Carolina",
         "contract",
         1
        ],
        [
         "New Jersey",
         "large",
         1
        ],
        [
         "South Carolina",
         "closed",
         1
        ],
        [
         "Texas",
         "proprietor",
         1
        ],
        [
         "Iowa",
         "contract",
         1
        ],
        [
         "Missouri",
         "contract",
         1
        ],
        [
         "Ohio",
         "closed",
         1
        ],
        [
         "Missouri",
         "large",
         1
        ],
        [
         "Ohio",
         "proprietor",
         1
        ],
        [
         "Maine",
         "proprietor",
         1
        ],
        [
         "Arizona",
         "regional",
         1
        ],
        [
         "Maryland",
         "large",
         1
        ],
        [
         "Wisconsin",
         "nano",
         1
        ],
        [
         "Tennessee",
         "contract",
         1
        ],
        [
         "New Jersey",
         "regional",
         1
        ],
        [
         "Indiana",
         "proprietor",
         1
        ],
        [
         "Georgia",
         "proprietor",
         1
        ],
        [
         "New Mexico",
         "proprietor",
         1
        ],
        [
         "New Mexico",
         "contract",
         1
        ],
        [
         "Cork",
         "regional",
         1
        ],
        [
         "Alaska",
         "regional",
         1
        ],
        [
         "North Dakota",
         "bar",
         1
        ],
        [
         "New Hampshire",
         "contract",
         1
        ],
        [
         "South Dakota",
         "contract",
         1
        ],
        [
         "Kansas",
         "regional",
         1
        ],
        [
         "Alaska",
         "contract",
         1
        ],
        [
         "Nevada",
         "bar",
         1
        ],
        [
         "Wyoming",
         "regional",
         1
        ],
        [
         "Rhode Island",
         "regional",
         1
        ],
        [
         "Oklahoma",
         "closed",
         1
        ],
        [
         "Dublin",
         "large",
         1
        ],
        [
         "Gyeonggido",
         "micro",
         1
        ],
        [
         "Louisiana",
         "regional",
         1
        ],
        [
         "East Sussex",
         "large",
         1
        ],
        [
         "Wyoming",
         "contract",
         1
        ],
        [
         "Mississippi",
         "planning",
         1
        ],
        [
         "Kentucky",
         "contract",
         1
        ],
        [
         "Idaho",
         "contract",
         1
        ],
        [
         "Idaho",
         "proprietor",
         1
        ],
        [
         "Idaho",
         "large",
         1
        ],
        [
         "District of Columbia",
         "regional",
         1
        ],
        [
         "Delaware",
         "regional",
         1
        ],
        [
         "Delaware",
         "large",
         1
        ],
        [
         "South Dakota",
         "proprietor",
         1
        ],
        [
         "Hawaii",
         "regional",
         1
        ],
        [
         "Arkansas",
         "contract",
         1
        ],
        [
         "New Hampshire",
         "large",
         1
        ],
        [
         "Alabama",
         "contract",
         1
        ],
        [
         "West Virginia",
         "proprietor",
         1
        ],
        [
         "Rhode Island",
         "proprietor",
         1
        ],
        [
         "Kentucky",
         "regional",
         1
        ],
        [
         "Kansas",
         "proprietor",
         1
        ],
        [
         "Mississippi",
         "contract",
         1
        ],
        [
         "Jeollanamdo",
         "brewpub",
         1
        ],
        [
         "Gwangju",
         "brewpub",
         1
        ],
        [
         "Galway",
         "micro",
         1
        ],
        [
         "Wicklow",
         "regional",
         1
        ],
        [
         "Louth",
         "micro",
         1
        ],
        [
         "Deagu",
         "brewpub",
         1
        ],
        [
         "Chungcheongbukdo",
         "brewpub",
         1
        ],
        [
         "Aveiro",
         "micro",
         1
        ],
        [
         "Gyeongsangbukdo",
         "micro",
         1
        ],
        [
         "Portalegre",
         "micro",
         1
        ],
        [
         "Coimbra",
         "brewpub",
         1
        ],
        [
         "Chungcheongnamdo",
         "brewpub",
         1
        ],
        [
         "Donegal",
         "regional",
         1
        ],
        [
         "Kilkenny",
         "micro",
         1
        ],
        [
         "Longford",
         "micro",
         1
        ],
        [
         "Daejeon",
         "brewpub",
         1
        ],
        [
         " Busan",
         "micro",
         1
        ],
        [
         "Carlow",
         "micro",
         1
        ],
        [
         "Aveiro",
         "brewpub",
         1
        ],
        [
         "Porto",
         "brewpub",
         1
        ],
        [
         "Faro",
         "micro",
         1
        ],
        [
         "Bute",
         "closed",
         1
        ],
        [
         "Westmeath",
         "brewpub",
         1
        ],
        [
         "Monaghan",
         "micro",
         1
        ],
        [
         "Kerry",
         "brewpub",
         1
        ],
        [
         "Clare",
         "brewpub",
         1
        ],
        [
         "Meath",
         "micro",
         1
        ],
        [
         "Leiria",
         "brewpub",
         1
        ],
        [
         "Lower Austria",
         "large",
         1
        ],
        [
         "Washington ",
         "planning",
         1
        ],
        [
         "Beja",
         "brewpub",
         1
        ],
        [
         "Porto",
         "micro",
         1
        ],
        [
         "East Dunbartonshire",
         "micro",
         1
        ],
        [
         "MIssouri",
         "micro",
         1
        ],
        [
         "Carinthia",
         "large",
         1
        ],
        [
         " Utah",
         "brewpub",
         1
        ],
        [
         "Roscommon",
         "micro",
         1
        ]
       ],
       "datasetInfos": [],
       "dbfsResultPath": null,
       "isJsonSchema": true,
       "metadata": {},
       "overflow": false,
       "plotOptions": {
        "customPlotOptions": {},
        "displayType": "table",
        "pivotAggregation": null,
        "pivotColumns": null,
        "xColumns": null,
        "yColumns": null
       },
       "removedWidgets": [],
       "schema": [
        {
         "metadata": "{}",
         "name": "state",
         "type": "\"string\""
        },
        {
         "metadata": "{}",
         "name": "brewery_type",
         "type": "\"string\""
        },
        {
         "metadata": "{}",
         "name": "count",
         "type": "\"long\""
        }
       ],
       "type": "table"
      }
     },
     "output_type": "display_data"
    }
   ],
   "source": [
    "gold_df.display()"
   ]
  },
  {
   "cell_type": "code",
   "execution_count": 0,
   "metadata": {
    "application/vnd.databricks.v1+cell": {
     "cellMetadata": {
      "byteLimit": 2048000,
      "rowLimit": 10000
     },
     "inputWidgets": {},
     "nuid": "8e71d0d5-be27-4582-bf03-9d3600108dba",
     "showTitle": false,
     "title": ""
    }
   },
   "outputs": [],
   "source": [
    "gold_df.write.partitionBy(\"state\").mode(\"overwrite\").parquet(\"/mnt/bees/gold/breweries_gold\")"
   ]
  }
 ],
 "metadata": {
  "application/vnd.databricks.v1+notebook": {
   "dashboards": [],
   "language": "python",
   "notebookMetadata": {
    "mostRecentlyExecutedCommandWithImplicitDF": {
     "commandId": -1,
     "dataframes": [
      "_sqldf"
     ]
    },
    "pythonIndentUnit": 4
   },
   "notebookName": "gold",
   "notebookOrigID": 146201354913101,
   "widgets": {}
  }
 },
 "nbformat": 4,
 "nbformat_minor": 0
}
